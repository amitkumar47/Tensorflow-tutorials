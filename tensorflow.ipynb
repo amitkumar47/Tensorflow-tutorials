{
  "cells": [
    {
      "cell_type": "markdown",
      "metadata": {
        "id": "D_V8PNzNvSkq"
      },
      "source": [
        "Importing the Libraries"
      ]
    },
    {
      "cell_type": "code",
      "execution_count": 11,
      "metadata": {
        "colab": {
          "base_uri": "https://localhost:8080/"
        },
        "id": "5eD2UzKJvSks",
        "outputId": "39b9197c-e61c-49c6-9135-eb3ccbacebae"
      },
      "outputs": [
        {
          "output_type": "stream",
          "name": "stdout",
          "text": [
            "2.12.0\n",
            "2.12.0\n"
          ]
        }
      ],
      "source": [
        "import tensorflow as tf\n",
        "from tensorflow import keras\n",
        "print(tf.__version__)\n",
        "print(keras.__version__)"
      ]
    },
    {
      "cell_type": "markdown",
      "metadata": {
        "id": "pxZtyJzRvSkt"
      },
      "source": [
        "Making an instance of Data class and loading the Data"
      ]
    },
    {
      "cell_type": "code",
      "execution_count": 12,
      "metadata": {
        "id": "Mt1LKalmvSku"
      },
      "outputs": [],
      "source": [
        "fashion_mnist= keras.datasets.fashion_mnist\n",
        "(x_train_full,y_train_full),(x_test,y_test)=fashion_mnist.load_data()"
      ]
    },
    {
      "cell_type": "code",
      "execution_count": 13,
      "metadata": {
        "colab": {
          "base_uri": "https://localhost:8080/"
        },
        "id": "V0WXd_ppvSku",
        "outputId": "99383f47-0cf0-4a2f-c957-fd00b204463a"
      },
      "outputs": [
        {
          "output_type": "stream",
          "name": "stdout",
          "text": [
            "(60000, 28, 28)\n",
            "(60000,)\n",
            "(10000, 28, 28)\n",
            "(10000,)\n",
            "<class 'numpy.ndarray'>\n"
          ]
        }
      ],
      "source": [
        "print(x_train_full.shape)\n",
        "print(y_train_full.shape)\n",
        "print(x_test.shape)\n",
        "print(y_test.shape)\n",
        "print(type(x_train_full))"
      ]
    },
    {
      "cell_type": "markdown",
      "metadata": {
        "id": "oxccq6mKvSku"
      },
      "source": [
        "Displaying image from the Data"
      ]
    },
    {
      "cell_type": "code",
      "execution_count": 14,
      "metadata": {
        "colab": {
          "base_uri": "https://localhost:8080/",
          "height": 447
        },
        "id": "xwDtHQuLvSku",
        "outputId": "a8c916c6-23fc-4fad-ec90-d40c858d1471"
      },
      "outputs": [
        {
          "output_type": "execute_result",
          "data": {
            "text/plain": [
              "<matplotlib.image.AxesImage at 0x7fb97a6ba5c0>"
            ]
          },
          "metadata": {},
          "execution_count": 14
        },
        {
          "output_type": "display_data",
          "data": {
            "text/plain": [
              "<Figure size 640x480 with 1 Axes>"
            ],
            "image/png": "[encoded data removed]"
          },
          "metadata": {}
        }
      ],
      "source": [
        "x_train_full[1,:,:]\n",
        "import matplotlib.pyplot as plt\n",
        "plt.imshow(x_train_full[199,:,:])"
      ]
    },
    {
      "cell_type": "markdown",
      "metadata": {
        "id": "obUHZafYvSkv"
      },
      "source": [
        "Splitting data into validation and training data"
      ]
    },
    {
      "cell_type": "code",
      "execution_count": 15,
      "metadata": {
        "id": "LCz4K_TtvSkv"
      },
      "outputs": [],
      "source": [
        "x_valid, x_train = x_train_full[:5000]/255.0 , x_train_full[5000:]/255.0\n",
        "y_valid, y_train = y_train_full[:5000]/255.0 , y_train_full[5000:]/255.0"
      ]
    },
    {
      "cell_type": "code",
      "source": [
        "y_valid.shape\n",
        "# y_train.shape"
      ],
      "metadata": {
        "colab": {
          "base_uri": "https://localhost:8080/"
        },
        "id": "uwbkfWwa0doM",
        "outputId": "0e7694d2-57b7-4f59-c993-c7a1f6cf73d3"
      },
      "execution_count": 35,
      "outputs": [
        {
          "output_type": "execute_result",
          "data": {
            "text/plain": [
              "(5000,)"
            ]
          },
          "metadata": {},
          "execution_count": 35
        }
      ]
    },
    {
      "cell_type": "markdown",
      "metadata": {
        "id": "nAhuSwl6vSkv"
      },
      "source": [
        "Giving the names to the classes 0 to 9"
      ]
    },
    {
      "cell_type": "code",
      "execution_count": 16,
      "metadata": {
        "colab": {
          "base_uri": "https://localhost:8080/",
          "height": 35
        },
        "id": "tyHL6fxMvSkv",
        "outputId": "fce5e05f-6d39-4788-98d0-ff81af43cff2"
      },
      "outputs": [
        {
          "output_type": "execute_result",
          "data": {
            "text/plain": [
              "'sneaker'"
            ],
            "application/vnd.google.colaboratory.intrinsic+json": {
              "type": "string"
            }
          },
          "metadata": {},
          "execution_count": 16
        }
      ],
      "source": [
        "class_names = ['top', 'trouser','pullover','dress','coat','sandal','shirt','sneaker','bag','ankle_boot'\n",
        "               ]\n",
        "class_names[y_train_full[6]]"
      ]
    },
    {
      "cell_type": "markdown",
      "metadata": {
        "id": "NbwDqmGUvSkv"
      },
      "source": [
        "Creating the model and weights Initialization"
      ]
    },
    {
      "cell_type": "code",
      "execution_count": 17,
      "metadata": {
        "id": "4mQLdY5YvSkv"
      },
      "outputs": [],
      "source": [
        "model = keras.models.Sequential()\n",
        "model.add(keras.layers.Flatten(input_shape = [28,28]))\n",
        "model.add(keras.layers.Dense(300,activation=\"relu\"))\n",
        "model.add(keras.layers.Dense(100,activation=\"relu\"))\n",
        "model.add(keras.layers.Dense(10,activation=\"softmax\"))"
      ]
    },
    {
      "cell_type": "code",
      "execution_count": 18,
      "metadata": {
        "colab": {
          "base_uri": "https://localhost:8080/"
        },
        "id": "jpFX5bCfvSkw",
        "outputId": "124499da-8896-41c5-9d13-5015fd80a0ba"
      },
      "outputs": [
        {
          "output_type": "stream",
          "name": "stdout",
          "text": [
            "Model: \"sequential_1\"\n",
            "_________________________________________________________________\n",
            " Layer (type)                Output Shape              Param #   \n",
            "=================================================================\n",
            " flatten_1 (Flatten)         (None, 784)               0         \n",
            "                                                                 \n",
            " dense_3 (Dense)             (None, 300)               235500    \n",
            "                                                                 \n",
            " dense_4 (Dense)             (None, 100)               30100     \n",
            "                                                                 \n",
            " dense_5 (Dense)             (None, 10)                1010      \n",
            "                                                                 \n",
            "=================================================================\n",
            "Total params: 266,610\n",
            "Trainable params: 266,610\n",
            "Non-trainable params: 0\n",
            "_________________________________________________________________\n"
          ]
        }
      ],
      "source": [
        "model.summary()\n",
        "hidden1 = model.layers[1]\n",
        "weights, biases = hidden1.get_weights()\n",
        "# weights.shape\n",
        "# biases.shape\n",
        "# print(weights)\n",
        "# print(biases)"
      ]
    },
    {
      "cell_type": "code",
      "execution_count": 19,
      "metadata": {
        "id": "QJkGAiG6vSkw"
      },
      "outputs": [],
      "source": [
        "model.compile(loss=\"sparse_categorical_crossentropy\", optimizer=\"sgd\", metrics = [\"accuracy\"])"
      ]
    },
    {
      "cell_type": "markdown",
      "source": [
        "Training the Model"
      ],
      "metadata": {
        "id": "LcQnmRMWxvaL"
      }
    },
    {
      "cell_type": "code",
      "execution_count": 37,
      "metadata": {
        "colab": {
          "base_uri": "https://localhost:8080/"
        },
        "id": "JNLRCyvQvSkw",
        "outputId": "08eb574e-795d-4019-9b53-438b3b04ebb0"
      },
      "outputs": [
        {
          "output_type": "stream",
          "name": "stdout",
          "text": [
            "Epoch 1/30\n",
            "3438/3438 [==============================] - 22s 6ms/step - loss: 4.3146e-06 - accuracy: 0.1008 - val_loss: 5.1526e-06 - val_accuracy: 0.0914\n",
            "Epoch 2/30\n",
            "3438/3438 [==============================] - 20s 6ms/step - loss: 4.2598e-06 - accuracy: 0.1008 - val_loss: 5.0882e-06 - val_accuracy: 0.0914\n",
            "Epoch 3/30\n",
            "3438/3438 [==============================] - 22s 6ms/step - loss: 4.2060e-06 - accuracy: 0.1008 - val_loss: 5.0263e-06 - val_accuracy: 0.0914\n",
            "Epoch 4/30\n",
            "3438/3438 [==============================] - 21s 6ms/step - loss: 4.1538e-06 - accuracy: 0.1008 - val_loss: 4.9652e-06 - val_accuracy: 0.0914\n",
            "Epoch 5/30\n",
            "3438/3438 [==============================] - 22s 6ms/step - loss: 4.1027e-06 - accuracy: 0.1008 - val_loss: 4.9057e-06 - val_accuracy: 0.0914\n",
            "Epoch 6/30\n",
            "3438/3438 [==============================] - 19s 6ms/step - loss: 4.0529e-06 - accuracy: 0.1008 - val_loss: 4.8474e-06 - val_accuracy: 0.0914\n",
            "Epoch 7/30\n",
            "3438/3438 [==============================] - 19s 5ms/step - loss: 4.0041e-06 - accuracy: 0.1008 - val_loss: 4.7909e-06 - val_accuracy: 0.0914\n",
            "Epoch 8/30\n",
            "3438/3438 [==============================] - 18s 5ms/step - loss: 3.9566e-06 - accuracy: 0.1008 - val_loss: 4.7354e-06 - val_accuracy: 0.0914\n",
            "Epoch 9/30\n",
            "3438/3438 [==============================] - 19s 6ms/step - loss: 3.9101e-06 - accuracy: 0.1008 - val_loss: 4.6810e-06 - val_accuracy: 0.0914\n",
            "Epoch 10/30\n",
            "3438/3438 [==============================] - 22s 6ms/step - loss: 3.8647e-06 - accuracy: 0.1008 - val_loss: 4.6279e-06 - val_accuracy: 0.0914\n",
            "Epoch 11/30\n",
            "3438/3438 [==============================] - 22s 6ms/step - loss: 3.8203e-06 - accuracy: 0.1008 - val_loss: 4.5762e-06 - val_accuracy: 0.0914\n",
            "Epoch 12/30\n",
            "3438/3438 [==============================] - 22s 6ms/step - loss: 3.7772e-06 - accuracy: 0.1008 - val_loss: 4.5253e-06 - val_accuracy: 0.0914\n",
            "Epoch 13/30\n",
            "3438/3438 [==============================] - 19s 6ms/step - loss: 3.7346e-06 - accuracy: 0.1008 - val_loss: 4.4756e-06 - val_accuracy: 0.0914\n",
            "Epoch 14/30\n",
            "3438/3438 [==============================] - 18s 5ms/step - loss: 3.6929e-06 - accuracy: 0.1008 - val_loss: 4.4269e-06 - val_accuracy: 0.0914\n",
            "Epoch 15/30\n",
            "3438/3438 [==============================] - 22s 7ms/step - loss: 3.6524e-06 - accuracy: 0.1008 - val_loss: 4.3794e-06 - val_accuracy: 0.0914\n",
            "Epoch 16/30\n",
            "3438/3438 [==============================] - 18s 5ms/step - loss: 3.6126e-06 - accuracy: 0.1008 - val_loss: 4.3332e-06 - val_accuracy: 0.0914\n",
            "Epoch 17/30\n",
            "3438/3438 [==============================] - 20s 6ms/step - loss: 3.5738e-06 - accuracy: 0.1008 - val_loss: 4.2874e-06 - val_accuracy: 0.0914\n",
            "Epoch 18/30\n",
            "3438/3438 [==============================] - 22s 6ms/step - loss: 3.5358e-06 - accuracy: 0.1008 - val_loss: 4.2421e-06 - val_accuracy: 0.0914\n",
            "Epoch 19/30\n",
            "3438/3438 [==============================] - 22s 7ms/step - loss: 3.4983e-06 - accuracy: 0.1008 - val_loss: 4.1984e-06 - val_accuracy: 0.0914\n",
            "Epoch 20/30\n",
            "3438/3438 [==============================] - 22s 6ms/step - loss: 3.4617e-06 - accuracy: 0.1008 - val_loss: 4.1553e-06 - val_accuracy: 0.0914\n",
            "Epoch 21/30\n",
            "3438/3438 [==============================] - 19s 6ms/step - loss: 3.4260e-06 - accuracy: 0.1008 - val_loss: 4.1134e-06 - val_accuracy: 0.0914\n",
            "Epoch 22/30\n",
            "3438/3438 [==============================] - 22s 7ms/step - loss: 3.3909e-06 - accuracy: 0.1008 - val_loss: 4.0720e-06 - val_accuracy: 0.0914\n",
            "Epoch 23/30\n",
            "3438/3438 [==============================] - 22s 6ms/step - loss: 3.3563e-06 - accuracy: 0.1008 - val_loss: 4.0318e-06 - val_accuracy: 0.0914\n",
            "Epoch 24/30\n",
            "3438/3438 [==============================] - 22s 7ms/step - loss: 3.3227e-06 - accuracy: 0.1008 - val_loss: 3.9922e-06 - val_accuracy: 0.0914\n",
            "Epoch 25/30\n",
            "3438/3438 [==============================] - 19s 6ms/step - loss: 3.2896e-06 - accuracy: 0.1008 - val_loss: 3.9531e-06 - val_accuracy: 0.0914\n",
            "Epoch 26/30\n",
            "3438/3438 [==============================] - 18s 5ms/step - loss: 3.2571e-06 - accuracy: 0.1008 - val_loss: 3.9152e-06 - val_accuracy: 0.0914\n",
            "Epoch 27/30\n",
            "3438/3438 [==============================] - 22s 6ms/step - loss: 3.2253e-06 - accuracy: 0.1008 - val_loss: 3.8776e-06 - val_accuracy: 0.0914\n",
            "Epoch 28/30\n",
            "3438/3438 [==============================] - 23s 7ms/step - loss: 3.1940e-06 - accuracy: 0.1008 - val_loss: 3.8410e-06 - val_accuracy: 0.0914\n",
            "Epoch 29/30\n",
            "3438/3438 [==============================] - 18s 5ms/step - loss: 3.1634e-06 - accuracy: 0.1008 - val_loss: 3.8050e-06 - val_accuracy: 0.0914\n",
            "Epoch 30/30\n",
            "3438/3438 [==============================] - 22s 6ms/step - loss: 3.1334e-06 - accuracy: 0.1008 - val_loss: 3.7694e-06 - val_accuracy: 0.0914\n"
          ]
        }
      ],
      "source": [
        "history = model.fit (x_train, y_train ,batch_size=16, epochs = 30 , validation_data= (x_valid, y_valid))"
      ]
    },
    {
      "cell_type": "code",
      "source": [
        "print(history.params)\n",
        "print(history.epoch)\n",
        "print(history.history)"
      ],
      "metadata": {
        "colab": {
          "base_uri": "https://localhost:8080/"
        },
        "id": "OKJBGqV7wtLh",
        "outputId": "5e22f342-a6f2-4353-8a63-55dbcc3a6089"
      },
      "execution_count": 39,
      "outputs": [
        {
          "output_type": "stream",
          "name": "stdout",
          "text": [
            "{'verbose': 1, 'epochs': 30, 'steps': 3438}\n",
            "[0, 1, 2, 3, 4, 5, 6, 7, 8, 9, 10, 11, 12, 13, 14, 15, 16, 17, 18, 19, 20, 21, 22, 23, 24, 25, 26, 27, 28, 29]\n",
            "{'loss': [4.314611942390911e-06, 4.2597739593475126e-06, 4.206011908536311e-06, 4.1537696233717725e-06, 4.102702860109275e-06, 4.052890290040523e-06, 4.0041109059529845e-06, 3.956642103730701e-06, 3.910146915586665e-06, 3.864650352625176e-06, 3.820304755208781e-06, 3.777185838771402e-06, 3.7345701002777787e-06, 3.692929794851807e-06, 3.6523915696307085e-06, 3.612613454606617e-06, 3.5738337373913964e-06, 3.535771611495875e-06, 3.4983027035195846e-06, 3.4617310120665934e-06, 3.426002649575821e-06, 3.3909147987287724e-06, 3.3563110264367424e-06, 3.322742713862681e-06, 3.289591404609382e-06, 3.2571285828453256e-06, 3.2253451536234934e-06, 3.1939723612595117e-06, 3.1634233437216608e-06, 3.1333620427176356e-06], 'accuracy': [0.10078182071447372, 0.10078182071447372, 0.10078182071447372, 0.10078182071447372, 0.10078182071447372, 0.10078182071447372, 0.10078182071447372, 0.10078182071447372, 0.10078182071447372, 0.10078182071447372, 0.10078182071447372, 0.10078182071447372, 0.10078182071447372, 0.10078182071447372, 0.10078182071447372, 0.10078182071447372, 0.10078182071447372, 0.10078182071447372, 0.10078182071447372, 0.10078182071447372, 0.10078182071447372, 0.10078182071447372, 0.10078182071447372, 0.10078182071447372, 0.10078182071447372, 0.10078182071447372, 0.10078182071447372, 0.10078182071447372, 0.10078182071447372, 0.10078182071447372], 'val_loss': [5.152608991920715e-06, 5.0881953939097e-06, 5.0263242883374915e-06, 4.965211701346561e-06, 4.905693458567839e-06, 4.847407126362668e-06, 4.790857474290533e-06, 4.73544787382707e-06, 4.680986876337556e-06, 4.627880571206333e-06, 4.576200808514841e-06, 4.52528092864668e-06, 4.475619789445773e-06, 4.426862233231077e-06, 4.379364327178337e-06, 4.333197921368992e-06, 4.287385763745988e-06, 4.242119302944047e-06, 4.19842399423942e-06, 4.155345322942594e-06, 4.113431259611389e-06, 4.072016508871457e-06, 4.031790467706742e-06, 3.992158326582285e-06, 3.953144187107682e-06, 3.9152005228970665e-06, 3.877611561620142e-06, 3.841022589767817e-06, 3.8050275179557502e-06, 3.7694364891649457e-06], 'val_accuracy': [0.09139999747276306, 0.09139999747276306, 0.09139999747276306, 0.09139999747276306, 0.09139999747276306, 0.09139999747276306, 0.09139999747276306, 0.09139999747276306, 0.09139999747276306, 0.09139999747276306, 0.09139999747276306, 0.09139999747276306, 0.09139999747276306, 0.09139999747276306, 0.09139999747276306, 0.09139999747276306, 0.09139999747276306, 0.09139999747276306, 0.09139999747276306, 0.09139999747276306, 0.09139999747276306, 0.09139999747276306, 0.09139999747276306, 0.09139999747276306, 0.09139999747276306, 0.09139999747276306, 0.09139999747276306, 0.09139999747276306, 0.09139999747276306, 0.09139999747276306]}\n"
          ]
        }
      ]
    },
    {
      "cell_type": "code",
      "source": [
        "import pandas as pd\n",
        "import matplotlib.pyplot as plt\n",
        "pd.DataFrame(history.history).plot(figsize = (8,5))\n",
        "plt.grid(True)\n",
        "plt.gca().set_ylim(0,1)\n",
        "plt.show()"
      ],
      "metadata": {
        "colab": {
          "base_uri": "https://localhost:8080/",
          "height": 451
        },
        "id": "CR8KjB9KyEyV",
        "outputId": "9921d1ae-1111-45f8-acf8-9555fdab1210"
      },
      "execution_count": 40,
      "outputs": [
        {
          "output_type": "display_data",
          "data": {
            "text/plain": [
              "<Figure size 800x500 with 1 Axes>"
            ],
            "image/png": "[encoded data removed]"
          },
          "metadata": {}
        }
      ]
    },
    {
      "cell_type": "code",
      "source": [
        "model.evaluate(x_test,y_test)"
      ],
      "metadata": {
        "colab": {
          "base_uri": "https://localhost:8080/"
        },
        "id": "tlxd72-N0JVv",
        "outputId": "4af7d802-5912-477c-a4e7-b96d83090d5a"
      },
      "execution_count": 41,
      "outputs": [
        {
          "output_type": "stream",
          "name": "stdout",
          "text": [
            "313/313 [==============================] - 2s 7ms/step - loss: 9530.3672 - accuracy: 0.1000\n"
          ]
        },
        {
          "output_type": "execute_result",
          "data": {
            "text/plain": [
              "[9530.3671875, 0.10000000149011612]"
            ]
          },
          "metadata": {},
          "execution_count": 41
        }
      ]
    },
    {
      "cell_type": "code",
      "source": [
        "x_new = x_test[5575:5780]\n",
        "y_proba = model.predict(x_new)\n"
      ],
      "metadata": {
        "colab": {
          "base_uri": "https://localhost:8080/"
        },
        "id": "sgKZaLI86Drs",
        "outputId": "f7af9046-338e-47d1-b9c6-7924c1073f0d"
      },
      "execution_count": 52,
      "outputs": [
        {
          "output_type": "stream",
          "name": "stdout",
          "text": [
            "7/7 [==============================] - 0s 4ms/step\n"
          ]
        }
      ]
    },
    {
      "cell_type": "code",
      "source": [
        "import numpy as np\n",
        "predict_x=model.predict(x_new) \n",
        "classes_x=np.argmax(predict_x,axis=1)"
      ],
      "metadata": {
        "colab": {
          "base_uri": "https://localhost:8080/"
        },
        "id": "jxYMjXes6gRf",
        "outputId": "232bad50-119c-4b4c-b55e-6e408e015ccf"
      },
      "execution_count": 54,
      "outputs": [
        {
          "output_type": "stream",
          "name": "stdout",
          "text": [
            "7/7 [==============================] - 0s 4ms/step\n"
          ]
        },
        {
          "output_type": "execute_result",
          "data": {
            "text/plain": [
              "array([0, 0, 0, 0, 0, 0, 0, 0, 0, 0, 0, 0, 0, 0, 0, 0, 0, 0, 0, 0, 0, 0,\n",
              "       0, 0, 0, 0, 0, 0, 0, 0, 0, 0, 0, 0, 0, 0, 0, 0, 0, 0, 0, 0, 0, 0,\n",
              "       0, 0, 0, 0, 0, 0, 0, 0, 0, 0, 0, 0, 0, 0, 0, 0, 0, 0, 0, 0, 0, 0,\n",
              "       0, 0, 0, 0, 0, 0, 0, 0, 0, 0, 0, 0, 0, 0, 0, 0, 0, 0, 0, 0, 0, 0,\n",
              "       0, 0, 0, 0, 0, 0, 0, 0, 0, 0, 0, 0, 0, 0, 0, 0, 0, 0, 0, 0, 0, 0,\n",
              "       0, 0, 0, 0, 0, 0, 0, 0, 0, 0, 0, 0, 0, 0, 0, 0, 0, 0, 0, 0, 0, 0,\n",
              "       0, 0, 0, 0, 0, 0, 0, 0, 0, 0, 0, 0, 0, 0, 0, 0, 0, 0, 0, 0, 0, 0,\n",
              "       0, 0, 0, 0, 0, 0, 0, 0, 0, 0, 0, 0, 0, 0, 0, 0, 0, 0, 0, 0, 0, 0,\n",
              "       0, 0, 0, 0, 0, 0, 0, 0, 0, 0, 0, 0, 0, 0, 0, 0, 0, 0, 0, 0, 0, 0,\n",
              "       0, 0, 0, 0, 0, 0, 0])"
            ]
          },
          "metadata": {},
          "execution_count": 54
        }
      ]
    },
    {
      "cell_type": "code",
      "source": [
        "y_new = y_test[5575:5780]\n",
        "y_new"
      ],
      "metadata": {
        "colab": {
          "base_uri": "https://localhost:8080/"
        },
        "id": "3c3Uf1Jp7tc3",
        "outputId": "62578369-dd81-40b9-d57f-851e6278ca08"
      },
      "execution_count": 55,
      "outputs": [
        {
          "output_type": "execute_result",
          "data": {
            "text/plain": [
              "array([3, 3, 0, 2, 1, 7, 0, 5, 4, 5, 3, 6, 2, 1, 6, 0, 7, 3, 6, 6, 3, 6,\n",
              "       1, 5, 2, 9, 0, 8, 0, 4, 4, 0, 1, 7, 5, 3, 3, 3, 2, 0, 3, 5, 2, 6,\n",
              "       2, 5, 1, 4, 6, 2, 1, 9, 3, 4, 6, 9, 5, 8, 0, 6, 3, 6, 0, 8, 1, 2,\n",
              "       3, 3, 1, 5, 5, 3, 2, 6, 7, 1, 3, 2, 3, 6, 1, 2, 2, 8, 0, 8, 4, 7,\n",
              "       0, 3, 1, 3, 8, 3, 4, 1, 2, 0, 3, 6, 7, 7, 8, 3, 6, 9, 5, 6, 6, 9,\n",
              "       5, 4, 3, 8, 5, 3, 8, 3, 7, 9, 6, 2, 5, 1, 0, 5, 2, 3, 5, 7, 9, 6,\n",
              "       0, 7, 1, 2, 0, 8, 2, 2, 2, 7, 8, 0, 2, 4, 4, 9, 7, 3, 2, 5, 4, 5,\n",
              "       1, 9, 5, 0, 5, 2, 4, 1, 7, 9, 0, 3, 3, 4, 9, 1, 0, 1, 9, 5, 6, 8,\n",
              "       2, 2, 1, 4, 0, 6, 7, 9, 0, 1, 1, 4, 3, 6, 9, 8, 1, 3, 7, 3, 9, 9,\n",
              "       5, 4, 2, 3, 6, 8, 8], dtype=uint8)"
            ]
          },
          "metadata": {},
          "execution_count": 55
        }
      ]
    }
  ],
  "metadata": {
    "kernelspec": {
      "display_name": "base",
      "language": "python",
      "name": "python3"
    },
    "language_info": {
      "codemirror_mode": {
        "name": "ipython",
        "version": 3
      },
      "file_extension": ".py",
      "mimetype": "text/x-python",
      "name": "python",
      "nbconvert_exporter": "python",
      "pygments_lexer": "ipython3",
      "version": "3.8.10"
    },
    "orig_nbformat": 4,
    "colab": {
      "provenance": []
    }
  },
  "nbformat": 4,
  "nbformat_minor": 0
}